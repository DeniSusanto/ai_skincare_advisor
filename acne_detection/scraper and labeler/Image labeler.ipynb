{
 "cells": [
  {
   "cell_type": "code",
   "execution_count": 7,
   "metadata": {},
   "outputs": [],
   "source": [
    "import copy\n",
    "from shutil import copy2\n",
    "import cv2\n",
    "import dlib\n",
    "import os\n",
    "import sys\n",
    "import imutils\n",
    "import pandas as pd\n",
    "from os import listdir\n",
    "from os.path import join, isfile, splitext"
   ]
  },
  {
   "cell_type": "code",
   "execution_count": 8,
   "metadata": {},
   "outputs": [],
   "source": [
    "#path to the csv that should contain the image labels\n",
    "CSV_DATABASE = \"../data/images_labels.csv\"\n",
    "#path to the csv viewed image name\n",
    "CSV_VIEWED = \"../data/viewed_list.csv\"\n",
    "#path of the images to be labeled\n",
    "SOURCE_DIRECTORY = \"../data/source_images\"\n",
    "#path of the images labeled already\n",
    "DEST_DIRECTORY = \"../data/labeled_images\"\n",
    "\n",
    "COLS_NAME = ['image_name', 'label']\n",
    "VIEWED_COLS = ['image_name']\n",
    "\n",
    "detector = dlib.get_frontal_face_detector()"
   ]
  },
  {
   "cell_type": "code",
   "execution_count": 50,
   "metadata": {},
   "outputs": [],
   "source": [
    "# #TEST SET LABELING\n",
    "\n",
    "# #path to the csv that should contain the image labels\n",
    "# CSV_DATABASE = \"../data/test_images_labels.csv\"\n",
    "# #path to the csv viewed image name\n",
    "# CSV_VIEWED = \"../data/test_viewed_list.csv\"\n",
    "# #path of the images to be labeled\n",
    "# SOURCE_DIRECTORY = \"../data/test_images\"\n",
    "# #path of the images labeled already\n",
    "# DEST_DIRECTORY = \"../data/labeled_test_images\"\n",
    "\n",
    "# COLS_NAME = ['image_name', 'label']\n",
    "# VIEWED_COLS = ['image_name']\n",
    "\n",
    "# detector = dlib.get_frontal_face_detector()"
   ]
  },
  {
   "cell_type": "code",
   "execution_count": 52,
   "metadata": {},
   "outputs": [
    {
     "name": "stdout",
     "output_type": "stream",
     "text": [
      "20171226_203858.jpg UPDATE SAVE: 1-Clear\n",
      "20180727_203313.jpg UPDATE SAVE: 1-Clear\n",
      "20190530_164944.jpg UPDATE SAVE: 1-Clear\n",
      "20200108_084050.jpg UPDATE SAVE: 3-Mild\n",
      "IMG_20170412_185554.jpg UPDATE SAVE: 2-Almost Clear\n",
      "jongun.jpg UPDATE SAVE: 1-Clear\n",
      "me1.png UPDATE SAVE: 1-Clear\n",
      "set1.jpg UPDATE SAVE: 5-Severe\n",
      "set1_clean.jpg UPDATE SAVE: 1-Clear\n",
      "set2.jpg UPDATE SAVE: 3-Mild\n",
      "set2_clean.jpg UPDATE SAVE: 1-Clear\n",
      "Soyeon Choi.jpg UPDATE SAVE: 1-Clear\n",
      "soyeon.jpg UPDATE SAVE: 1-Clear\n",
      "processed: 14 images\n"
     ]
    }
   ],
   "source": [
    "imageFiles = [join(SOURCE_DIRECTORY, f) for f in listdir(SOURCE_DIRECTORY) if isfile(join(SOURCE_DIRECTORY, f))]\n",
    "num_images = len(imageFiles)\n",
    "start_index = 0\n",
    "imageName = 0\n",
    "image_counter = 0\n",
    "end_index = num_images\n",
    "if os.path.isfile(CSV_DATABASE):\n",
    "    database = pd.read_csv(CSV_DATABASE)\n",
    "else:\n",
    "    database = pd.DataFrame(columns = COLS_NAME)\n",
    "    \n",
    "if os.path.isfile(CSV_VIEWED):\n",
    "    viewed_df = pd.read_csv(CSV_VIEWED)\n",
    "else:\n",
    "    viewed_df = pd.DataFrame(columns = VIEWED_COLS)\n",
    "    \n",
    "for i, _ in enumerate(imageFiles[start_index:end_index]):\n",
    "    imagefile = imageFiles[i]\n",
    "    imageName = os.path.basename(imagefile)\n",
    "    imageType = splitext(os.path.basename(imagefile))[1]\n",
    "    if not imageName in viewed_df['image_name'].values and (imageType == \".jpg\" or imageType == \".png\"):\n",
    "        ori_image = cv2.imread(imagefile)\n",
    "        try:\n",
    "            image = imutils.resize(ori_image, width=600)\n",
    "        except:\n",
    "            image_counter += 1\n",
    "            viewed_df = viewed_df.append(pd.DataFrame([imageName], columns = VIEWED_COLS), ignore_index = True, sort = False)\n",
    "            viewed_df.to_csv(CSV_VIEWED, index=False)\n",
    "            continue\n",
    "        gray = cv2.cvtColor(image, cv2.COLOR_BGR2GRAY)\n",
    "        faces = detector(gray, 1)\n",
    "        if len(faces) == 1:\n",
    "            cv2.imshow(imageName ,image)\n",
    "            k = cv2.waitKey(0)\n",
    "            if k == 27:         # wait for ESC key to exit\n",
    "                cv2.destroyAllWindows()\n",
    "                break\n",
    "            elif k == ord('s'):\n",
    "                cv2.destroyAllWindows()\n",
    "            elif k == ord('1') or k == ord('2') or k == ord('3') or k == ord('4') or k == ord('5'):\n",
    "                label_input = \"1-Clear\" if k == ord('1') else \"2-Almost Clear\" if k == ord('2') else \"3-Mild\" if k == ord('3') else \"4-Moderate\" if k == ord('4') else \"5-Severe\"\n",
    "                database = database.append(pd.DataFrame([[imageName, label_input]], columns = COLS_NAME), ignore_index = True, sort = False)\n",
    "                database.to_csv(CSV_DATABASE, index=False)\n",
    "                print(imageName, 'UPDATE SAVE:', label_input)\n",
    "                copy2(imagefile, DEST_DIRECTORY)\n",
    "                cv2.destroyAllWindows()\n",
    "            else:\n",
    "                cv2.destroyAllWindows()\n",
    "        image_counter += 1\n",
    "        viewed_df = viewed_df.append(pd.DataFrame([imageName], columns = VIEWED_COLS), ignore_index = True, sort = False)\n",
    "        viewed_df.to_csv(CSV_VIEWED, index=False)\n",
    "print(\"processed:\", image_counter, \"images\")\n",
    "        "
   ]
  },
  {
   "cell_type": "code",
   "execution_count": 26,
   "metadata": {},
   "outputs": [
    {
     "data": {
      "text/plain": [
       "'../data/source_images\\\\acne+face_103.jpg'"
      ]
     },
     "execution_count": 26,
     "metadata": {},
     "output_type": "execute_result"
    }
   ],
   "source": [
    "imagefile"
   ]
  },
  {
   "cell_type": "markdown",
   "metadata": {},
   "source": [
    "### [\"0-Not Acne\", \"1-Clear\", \"2-Almost Clear\", \"3-Mild\", \"4-Moderate\", \"5-Severe\"]"
   ]
  },
  {
   "cell_type": "code",
   "execution_count": 8,
   "metadata": {},
   "outputs": [
    {
     "data": {
      "text/plain": [
       "('images_labels', '.csv')"
      ]
     },
     "execution_count": 8,
     "metadata": {},
     "output_type": "execute_result"
    }
   ],
   "source": [
    "splitext(os.path.basename(\"images_labels.csv\"))"
   ]
  },
  {
   "cell_type": "code",
   "execution_count": 34,
   "metadata": {},
   "outputs": [
    {
     "data": {
      "text/plain": [
       "False"
      ]
     },
     "execution_count": 34,
     "metadata": {},
     "output_type": "execute_result"
    }
   ],
   "source": [
    "dd = pd.DataFrame({'image_name': ['3','222222'], 'label': [2,5]})\n",
    "2 in dd['image_name'].values"
   ]
  },
  {
   "cell_type": "code",
   "execution_count": 35,
   "metadata": {},
   "outputs": [],
   "source": [
    "dd.to_csv('test.csv')"
   ]
  },
  {
   "cell_type": "code",
   "execution_count": 37,
   "metadata": {},
   "outputs": [
    {
     "data": {
      "text/plain": [
       "49"
      ]
     },
     "execution_count": 37,
     "metadata": {},
     "output_type": "execute_result"
    }
   ],
   "source": [
    "ord('1')"
   ]
  },
  {
   "cell_type": "code",
   "execution_count": 42,
   "metadata": {},
   "outputs": [
    {
     "data": {
      "text/plain": [
       "'./acne\\\\model.py'"
      ]
     },
     "execution_count": 42,
     "metadata": {},
     "output_type": "execute_result"
    }
   ],
   "source": [
    "copy2('model.py', './acne')"
   ]
  },
  {
   "cell_type": "code",
   "execution_count": 45,
   "metadata": {},
   "outputs": [
    {
     "data": {
      "text/plain": [
       "'2'"
      ]
     },
     "execution_count": 45,
     "metadata": {},
     "output_type": "execute_result"
    }
   ],
   "source": [
    "chr(50)"
   ]
  },
  {
   "cell_type": "code",
   "execution_count": 50,
   "metadata": {},
   "outputs": [],
   "source": [
    "dd = pd.DataFrame([[1,2]], columns = COLS_NAME)"
   ]
  },
  {
   "cell_type": "code",
   "execution_count": 54,
   "metadata": {},
   "outputs": [],
   "source": [
    "dd=dd.append(dd, ignore_index = True)"
   ]
  },
  {
   "cell_type": "code",
   "execution_count": 56,
   "metadata": {},
   "outputs": [
    {
     "data": {
      "text/html": [
       "<div>\n",
       "<style scoped>\n",
       "    .dataframe tbody tr th:only-of-type {\n",
       "        vertical-align: middle;\n",
       "    }\n",
       "\n",
       "    .dataframe tbody tr th {\n",
       "        vertical-align: top;\n",
       "    }\n",
       "\n",
       "    .dataframe thead th {\n",
       "        text-align: right;\n",
       "    }\n",
       "</style>\n",
       "<table border=\"1\" class=\"dataframe\">\n",
       "  <thead>\n",
       "    <tr style=\"text-align: right;\">\n",
       "      <th></th>\n",
       "      <th>image_name</th>\n",
       "      <th>label</th>\n",
       "    </tr>\n",
       "  </thead>\n",
       "  <tbody>\n",
       "    <tr>\n",
       "      <th>0</th>\n",
       "      <td>1</td>\n",
       "      <td>2</td>\n",
       "    </tr>\n",
       "    <tr>\n",
       "      <th>0</th>\n",
       "      <td>1</td>\n",
       "      <td>2</td>\n",
       "    </tr>\n",
       "    <tr>\n",
       "      <th>0</th>\n",
       "      <td>1</td>\n",
       "      <td>2</td>\n",
       "    </tr>\n",
       "    <tr>\n",
       "      <th>0</th>\n",
       "      <td>1</td>\n",
       "      <td>2</td>\n",
       "    </tr>\n",
       "  </tbody>\n",
       "</table>\n",
       "</div>"
      ],
      "text/plain": [
       "   image_name  label\n",
       "0           1      2\n",
       "0           1      2\n",
       "0           1      2\n",
       "0           1      2"
      ]
     },
     "execution_count": 56,
     "metadata": {},
     "output_type": "execute_result"
    }
   ],
   "source": [
    "dd.append(dd)"
   ]
  },
  {
   "cell_type": "code",
   "execution_count": 57,
   "metadata": {},
   "outputs": [
    {
     "data": {
      "text/html": [
       "<div>\n",
       "<style scoped>\n",
       "    .dataframe tbody tr th:only-of-type {\n",
       "        vertical-align: middle;\n",
       "    }\n",
       "\n",
       "    .dataframe tbody tr th {\n",
       "        vertical-align: top;\n",
       "    }\n",
       "\n",
       "    .dataframe thead th {\n",
       "        text-align: right;\n",
       "    }\n",
       "</style>\n",
       "<table border=\"1\" class=\"dataframe\">\n",
       "  <thead>\n",
       "    <tr style=\"text-align: right;\">\n",
       "      <th></th>\n",
       "      <th>image_name</th>\n",
       "      <th>label</th>\n",
       "    </tr>\n",
       "  </thead>\n",
       "  <tbody>\n",
       "    <tr>\n",
       "      <th>0</th>\n",
       "      <td>1</td>\n",
       "      <td>2</td>\n",
       "    </tr>\n",
       "    <tr>\n",
       "      <th>0</th>\n",
       "      <td>1</td>\n",
       "      <td>2</td>\n",
       "    </tr>\n",
       "  </tbody>\n",
       "</table>\n",
       "</div>"
      ],
      "text/plain": [
       "   image_name  label\n",
       "0           1      2\n",
       "0           1      2"
      ]
     },
     "execution_count": 57,
     "metadata": {},
     "output_type": "execute_result"
    }
   ],
   "source": [
    "dd"
   ]
  },
  {
   "cell_type": "code",
   "execution_count": 77,
   "metadata": {},
   "outputs": [
    {
     "data": {
      "text/html": [
       "<div>\n",
       "<style scoped>\n",
       "    .dataframe tbody tr th:only-of-type {\n",
       "        vertical-align: middle;\n",
       "    }\n",
       "\n",
       "    .dataframe tbody tr th {\n",
       "        vertical-align: top;\n",
       "    }\n",
       "\n",
       "    .dataframe thead th {\n",
       "        text-align: right;\n",
       "    }\n",
       "</style>\n",
       "<table border=\"1\" class=\"dataframe\">\n",
       "  <thead>\n",
       "    <tr style=\"text-align: right;\">\n",
       "      <th></th>\n",
       "      <th>image_name</th>\n",
       "    </tr>\n",
       "  </thead>\n",
       "  <tbody>\n",
       "    <tr>\n",
       "      <th>0</th>\n",
       "      <td>924321_262269320619878_588452004_a.jpg</td>\n",
       "    </tr>\n",
       "  </tbody>\n",
       "</table>\n",
       "</div>"
      ],
      "text/plain": [
       "                               image_name\n",
       "0  924321_262269320619878_588452004_a.jpg"
      ]
     },
     "execution_count": 77,
     "metadata": {},
     "output_type": "execute_result"
    }
   ],
   "source": [
    "pd.DataFrame([imageName], columns = VIEWED_COLS)"
   ]
  },
  {
   "cell_type": "code",
   "execution_count": 84,
   "metadata": {},
   "outputs": [
    {
     "data": {
      "text/html": [
       "<div>\n",
       "<style scoped>\n",
       "    .dataframe tbody tr th:only-of-type {\n",
       "        vertical-align: middle;\n",
       "    }\n",
       "\n",
       "    .dataframe tbody tr th {\n",
       "        vertical-align: top;\n",
       "    }\n",
       "\n",
       "    .dataframe thead th {\n",
       "        text-align: right;\n",
       "    }\n",
       "</style>\n",
       "<table border=\"1\" class=\"dataframe\">\n",
       "  <thead>\n",
       "    <tr style=\"text-align: right;\">\n",
       "      <th></th>\n",
       "      <th>Unnamed: 0</th>\n",
       "      <th>image_name</th>\n",
       "    </tr>\n",
       "  </thead>\n",
       "  <tbody>\n",
       "    <tr>\n",
       "      <th>0</th>\n",
       "      <td>0</td>\n",
       "      <td>00a454da495e11e28a7322000a1fa414_6.jpg</td>\n",
       "    </tr>\n",
       "    <tr>\n",
       "      <th>1</th>\n",
       "      <td>1</td>\n",
       "      <td>00cddb96ac4c11e3a30212279ba1b65f_6.jpg</td>\n",
       "    </tr>\n",
       "    <tr>\n",
       "      <th>2</th>\n",
       "      <td>2</td>\n",
       "      <td>01cdd7aa1a1a11e2aaa822000a1fb0dd_6.jpg</td>\n",
       "    </tr>\n",
       "    <tr>\n",
       "      <th>3</th>\n",
       "      <td>3</td>\n",
       "      <td>024696bead0c11e389d50ec42b3b1b1c_6.jpg</td>\n",
       "    </tr>\n",
       "  </tbody>\n",
       "</table>\n",
       "</div>"
      ],
      "text/plain": [
       "   Unnamed: 0                              image_name\n",
       "0           0  00a454da495e11e28a7322000a1fa414_6.jpg\n",
       "1           1  00cddb96ac4c11e3a30212279ba1b65f_6.jpg\n",
       "2           2  01cdd7aa1a1a11e2aaa822000a1fb0dd_6.jpg\n",
       "3           3  024696bead0c11e389d50ec42b3b1b1c_6.jpg"
      ]
     },
     "execution_count": 84,
     "metadata": {},
     "output_type": "execute_result"
    }
   ],
   "source": [
    "pd.read_csv(CSV_VIEWED)"
   ]
  },
  {
   "cell_type": "code",
   "execution_count": null,
   "metadata": {},
   "outputs": [],
   "source": []
  }
 ],
 "metadata": {
  "kernelspec": {
   "display_name": "Python 3",
   "language": "python",
   "name": "python3"
  },
  "language_info": {
   "codemirror_mode": {
    "name": "ipython",
    "version": 3
   },
   "file_extension": ".py",
   "mimetype": "text/x-python",
   "name": "python",
   "nbconvert_exporter": "python",
   "pygments_lexer": "ipython3",
   "version": "3.6.5"
  }
 },
 "nbformat": 4,
 "nbformat_minor": 2
}
