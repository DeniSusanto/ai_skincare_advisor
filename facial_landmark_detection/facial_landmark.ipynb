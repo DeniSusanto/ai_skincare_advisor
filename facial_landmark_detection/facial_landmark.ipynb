{
 "cells": [
  {
   "cell_type": "markdown",
   "metadata": {},
   "source": [
    "# Facial landmark detection\n",
    "Referenced from: <br>\n",
    "code: https://towardsdatascience.com/facial-keypoints-detection-deep-learning-737547f73515 <br>\n",
    "facial structure detector: https://www.semanticscholar.org/paper/One-millisecond-face-alignment-with-an-ensemble-of-Kazemi-Sullivan/d78b6a5b0dcaa81b1faea5fb0000045a62513567"
   ]
  },
  {
   "cell_type": "code",
   "execution_count": 3,
   "metadata": {},
   "outputs": [],
   "source": [
    "from imutils import face_utils\n",
    "import numpy as np\n",
    "import argparse\n",
    "import imutils\n",
    "import dlib\n",
    "import cv2"
   ]
  },
  {
   "cell_type": "code",
   "execution_count": 2,
   "metadata": {},
   "outputs": [],
   "source": [
    "def facial_landmark_detector(image, detector, predictor, width = 700, highlightPoints = True, boundingBox = True, fontSize = 1):\n",
    "    image = imutils.resize(image, width=width)\n",
    "    gray = cv2.cvtColor(image, cv2.COLOR_BGR2GRAY)\n",
    "    rects = detector(gray, 1)\n",
    "    landmarks = []\n",
    "    succ = None\n",
    "    if len(rects) == 1:\n",
    "        rect = rects[0]\n",
    "        shape = predictor(gray, rect)\n",
    "        shape = face_utils.shape_to_np(shape)\n",
    "        landmarks.append(shape)\n",
    "        \n",
    "        (x, y, w, h) = face_utils.rect_to_bb(rect)\n",
    "        if boundingBox:\n",
    "            cv2.rectangle(image, (x, y), (x + w, y + h), (0, 255, 0), 2)\n",
    "        for idx, (x, y) in enumerate(shape):\n",
    "            if highlightPoints:\n",
    "                cv2.putText(image, \"{}\".format(idx + 1), (x, y), cv2.FONT_HERSHEY_SIMPLEX, 0.2, (0, 255, 0), fontSize)\n",
    "                #SHOW BULLET POINTS INSTEAD\n",
    "#                 cv2.circle(image, (x, y), 2, (0, 255, 0), 2)\n",
    "    else:\n",
    "        print(\"number of faces is not 1. Found\", len(rects), \"face(s)\")\n",
    "        succ = False\n",
    "        return (succ, image, None, None)\n",
    "    succ = True\n",
    "    return (succ, image, rects, landmarks)"
   ]
  },
  {
   "cell_type": "code",
   "execution_count": 6,
   "metadata": {},
   "outputs": [],
   "source": [
    "camera = cv2.VideoCapture(0)\n",
    "while True:\n",
    "    # Grab the current paintWindow\n",
    "    (grabbed, frame) = camera.read()\n",
    "    frame = cv2.flip(frame, 1)\n",
    "    succ, image, _, _ = facial_landmark_detector(frame, detector, predictor, width=500, boundingBox = False)\n",
    "    if succ:\n",
    "        cv2.imshow(\"Output\", image)\n",
    "    else:\n",
    "        cv2.imshow(\"Output\", image)\n",
    "    if cv2.waitKey(1) & 0xFF == ord(\"q\"):\n",
    "        break\n",
    "# Cleanup the camera and close any open windows\n",
    "camera.release()\n",
    "cv2.destroyAllWindows()"
   ]
  },
  {
   "cell_type": "code",
   "execution_count": null,
   "metadata": {},
   "outputs": [],
   "source": [
    "image = cv2.imread(\"./images/tom.jpg\")\n",
    "_, image, _, _ = facial_landmark_detector(image, detector, predictor, width=500, highlightPoints = False)\n",
    "cv2.imshow(\"Output\", image)\n",
    "k = cv2.waitKey(0)\n",
    "cv2.destroyAllWindows()"
   ]
  }
 ],
 "metadata": {
  "kernelspec": {
   "display_name": "Python 3",
   "language": "python",
   "name": "python3"
  },
  "language_info": {
   "codemirror_mode": {
    "name": "ipython",
    "version": 3
   },
   "file_extension": ".py",
   "mimetype": "text/x-python",
   "name": "python",
   "nbconvert_exporter": "python",
   "pygments_lexer": "ipython3",
   "version": "3.6.5"
  }
 },
 "nbformat": 4,
 "nbformat_minor": 2
}
