{
 "cells": [
  {
   "cell_type": "code",
   "execution_count": 14,
   "metadata": {},
   "outputs": [],
   "source": [
    "from skimage.feature import hessian_matrix, hessian_matrix_eigvals\n",
    "import matplotlib.pyplot as plt\n",
    "import numpy as np\n",
    "import imutils\n",
    "import cv2\n",
    "import os"
   ]
  },
  {
   "cell_type": "code",
   "execution_count": 15,
   "metadata": {},
   "outputs": [],
   "source": [
    "def detect_ridges(gray, sigma=3.0):\n",
    "    elem = hessian_matrix(gray, sigma)\n",
    "    i1, i2 = hessian_matrix_eigvals(elem)\n",
    "    return i1, i2"
   ]
  },
  {
   "cell_type": "code",
   "execution_count": 31,
   "metadata": {},
   "outputs": [],
   "source": [
    "def wrinkles_detector(image, width = 1200, temp_save_path = \"tmp.jpg\", hessian_sigma = 12.0, \n",
    "                      gaussian_kernel_size = 25, canny_low_threshold = 15, canny_high_threshold = 25, \n",
    "                      hough_rho = 10, hough_threshold = 15, hough_theta = np.pi/180, \n",
    "                      hough_minLineLength = 100, hough_maxLineGap = 1):\n",
    "    ori = image\n",
    "    ori = imutils.resize(ori, width=width)\n",
    "    image_gray = cv2.cvtColor(ori, cv2.COLOR_BGR2GRAY)\n",
    "    image_gray = imutils.resize(image_gray, width=width)\n",
    "    a, b = detect_ridges(image_gray, sigma=hessian_sigma)\n",
    "    #temporary save to jpg\n",
    "    fig = plt.imsave(temp_save_path,a, cmap='Greys')\n",
    "    conv = cv2.imread(temp_save_path)\n",
    "    try: \n",
    "        os.remove(temp_save_path)\n",
    "    except:\n",
    "        pass\n",
    "    gray = cv2.cvtColor(conv, cv2.COLOR_BGR2GRAY)\n",
    "    blurred = cv2.GaussianBlur(gray, (gaussian_kernel_size, gaussian_kernel_size), 0)\n",
    "    edged = cv2.Canny(blurred, canny_low_threshold, canny_high_threshold)\n",
    "    lines = cv2.HoughLinesP(edged, hough_rho, hough_theta, \n",
    "                            hough_threshold, hough_minLineLength, hough_maxLineGap)\n",
    "    if lines is not None:\n",
    "        for line in lines:\n",
    "            for x1,y1,x2,y2 in line:\n",
    "                cv2.line(ori,(x1,y1),(x2,y2),(0,255,0),2)\n",
    "    return(ori, lines)"
   ]
  },
  {
   "cell_type": "code",
   "execution_count": 32,
   "metadata": {},
   "outputs": [],
   "source": [
    "input_image = cv2.imread(\"test_image.jpg\")\n",
    "image, _ = wrinkles_detector(input_image)\n",
    "image = imutils.resize(image, width=700)\n",
    "cv2.imshow(\"show\",image)\n",
    "cv2.waitKey(0)\n",
    "cv2.destroyAllWindows()"
   ]
  }
 ],
 "metadata": {
  "kernelspec": {
   "display_name": "Python 3",
   "language": "python",
   "name": "python3"
  },
  "language_info": {
   "codemirror_mode": {
    "name": "ipython",
    "version": 3
   },
   "file_extension": ".py",
   "mimetype": "text/x-python",
   "name": "python",
   "nbconvert_exporter": "python",
   "pygments_lexer": "ipython3",
   "version": "3.6.5"
  }
 },
 "nbformat": 4,
 "nbformat_minor": 2
}
