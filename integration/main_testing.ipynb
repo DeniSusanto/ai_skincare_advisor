{
 "cells": [
  {
   "cell_type": "code",
   "execution_count": 1,
   "metadata": {},
   "outputs": [
    {
     "name": "stderr",
     "output_type": "stream",
     "text": [
      "[nltk_data] Downloading package punkt to\n",
      "[nltk_data]     C:\\Users\\denis\\AppData\\Roaming\\nltk_data...\n",
      "[nltk_data]   Package punkt is already up-to-date!\n",
      "[nltk_data] Downloading package stopwords to\n",
      "[nltk_data]     C:\\Users\\denis\\AppData\\Roaming\\nltk_data...\n",
      "[nltk_data]   Package stopwords is already up-to-date!\n"
     ]
    }
   ],
   "source": [
    "from main import SkinCareAdvisor"
   ]
  },
  {
   "cell_type": "code",
   "execution_count": 2,
   "metadata": {},
   "outputs": [],
   "source": [
    "import cv2\n",
    "import matplotlib.pyplot as plt\n",
    "import time\n",
    "import json\n",
    "def printImage(image):\n",
    "    image = cv2.cvtColor(image, cv2.COLOR_BGR2RGB)\n",
    "    plt.imshow(image)\n",
    "    plt.show()"
   ]
  },
  {
   "cell_type": "code",
   "execution_count": 7,
   "metadata": {},
   "outputs": [
    {
     "name": "stderr",
     "output_type": "stream",
     "text": [
      "c:\\users\\denis\\anaconda3\\envs\\fyp\\lib\\site-packages\\sklearn\\utils\\deprecation.py:144: FutureWarning: The sklearn.linear_model.base module is  deprecated in version 0.22 and will be removed in version 0.24. The corresponding classes / functions should instead be imported from sklearn.linear_model. Anything that cannot be imported from sklearn.linear_model is now part of the private API.\n",
      "  warnings.warn(message, FutureWarning)\n",
      "c:\\users\\denis\\anaconda3\\envs\\fyp\\lib\\site-packages\\sklearn\\base.py:318: UserWarning: Trying to unpickle estimator LinearRegression from version 0.20.2 when using version 0.22.2.post1. This might lead to breaking code or invalid results. Use at your own risk.\n",
      "  UserWarning)\n",
      "c:\\users\\denis\\anaconda3\\envs\\fyp\\lib\\site-packages\\sklearn\\utils\\deprecation.py:144: FutureWarning: The sklearn.neural_network.multilayer_perceptron module is  deprecated in version 0.22 and will be removed in version 0.24. The corresponding classes / functions should instead be imported from sklearn.neural_network. Anything that cannot be imported from sklearn.neural_network is now part of the private API.\n",
      "  warnings.warn(message, FutureWarning)\n",
      "c:\\users\\denis\\anaconda3\\envs\\fyp\\lib\\site-packages\\sklearn\\base.py:318: UserWarning: Trying to unpickle estimator MLPRegressor from version 0.20.2 when using version 0.22.2.post1. This might lead to breaking code or invalid results. Use at your own risk.\n",
      "  UserWarning)\n"
     ]
    }
   ],
   "source": [
    "#major integration\n",
    "import dlib\n",
    "from wide_resnet import WideResNet\n",
    "import os\n",
    "from cntk import load_model, combine\n",
    "import config\n",
    "import pandas as pd\n",
    "import pickle\n",
    "\n",
    "#prod_cat\n",
    "PRODUCT_CATALOGUE_CSV_PATH = config.PRODUCT_CATALOGUE_CSV_PATH\n",
    "prod_cat = pd.read_csv(PRODUCT_CATALOGUE_CSV_PATH)\n",
    "\n",
    "#facial_landmark\n",
    "F_L_PREDICTOR_PATH = config.F_L_PREDICTOR_PATH\n",
    "detector = dlib.get_frontal_face_detector()\n",
    "predictor = dlib.shape_predictor(F_L_PREDICTOR_PATH)\n",
    "\n",
    "#age_gender\n",
    "A_G_MODEL_PATH = config.A_G_MODEL_PATH\n",
    "ag_model = WideResNet(64)()\n",
    "ag_model.load_weights(A_G_MODEL_PATH)\n",
    "\n",
    "#dark_eye\n",
    "D_E_MODEL_PATH = config.D_E_MODEL_PATH\n",
    "with open(D_E_MODEL_PATH, 'rb') as f:\n",
    "    de_model = pickle.load(f)\n",
    "\n",
    "#acne\n",
    "ACNE_PRETRAINED_MODEL_NAME = config.ACNE_PRETRAINED_MODEL_NAME\n",
    "ACNE_PRETRAINED_MODEL_PATH = config.ACNE_PRETRAINED_MODEL_PATH\n",
    "ACNE_PRETRAINED_NODE_NAME = config.ACNE_PRETRAINED_NODE_NAME\n",
    "ACNE_REGRESSION_MODEL_PATH = config.ACNE_REGRESSION_MODEL_PATH\n",
    "model_file  = os.path.join(ACNE_PRETRAINED_MODEL_PATH, ACNE_PRETRAINED_MODEL_NAME)\n",
    "ac_loaded_model  = load_model(model_file)\n",
    "node_in_graph = ac_loaded_model.find_by_name(ACNE_PRETRAINED_NODE_NAME)\n",
    "ac_output_nodes  = combine([node_in_graph.owner])\n",
    "read_model = pd.read_pickle(ACNE_REGRESSION_MODEL_PATH)\n",
    "regression_model = read_model['model'][0]\n",
    "ac_train_regression = pickle.loads(regression_model)\n"
   ]
  },
  {
   "cell_type": "code",
   "execution_count": 8,
   "metadata": {},
   "outputs": [
    {
     "name": "stdout",
     "output_type": "stream",
     "text": [
      "Time full pipeline 3.1656198501586914 second(s)\n"
     ]
    }
   ],
   "source": [
    "q = {\n",
    "    'age' : None,\n",
    "    'skin_type': None,\n",
    "    'allergies': None,\n",
    "    'price': None,\n",
    "    'concerns': None,\n",
    "    'preferences': None\n",
    "}\n",
    "image = cv2.imread(\"./test_images/image5.jpg\")\n",
    "start_time = time.time()\n",
    "sca = SkinCareAdvisor(q, image, detector, predictor, prod_cat, ag_model, de_model, ac_loaded_model, ac_output_nodes, ac_train_regression)\n",
    "print(\"Time full pipeline\", time.time() - start_time, \"second(s)\")"
   ]
  },
  {
   "cell_type": "code",
   "execution_count": 9,
   "metadata": {},
   "outputs": [
    {
     "data": {
      "text/plain": [
       "'{\"0\": {\"title\": \"Glycolic Acid 7% Toning Solution\", \"issue\": \"Cleanser\", \"image\": {\"uri\": \"https://www.sephora.com/productimages/sku/s2031508-main-zoom.jpg\"}, \"price\": 8.699999999999998, \"rating\": 4.5, \"likes\": 172100, \"description\": \"An exfoliating toning solution with seven percent glycolic acid, amino acids, aloe vera, ginseng, and tasmanian pepperberry.\"}, \"1\": {\"title\": \"Protini\\\\u2122 Polypeptide Moisturizer\", \"issue\": \"Moisturizer\", \"image\": {\"uri\": \"https://www.sephora.com/productimages/sku/s2025633-main-zoom.jpg\"}, \"price\": 68.0, \"rating\": 4.0, \"likes\": 218900, \"description\": \"A protein moisturizer that combines signal peptides, growth factors, amino acids, and pygmy waterlily to improve the look of skin\\\\u2019s tone, texture, and firmness.\"}, \"2\": {\"title\": \"Truth Serum\\\\u00ae\", \"issue\": \"Treatment\", \"image\": {\"uri\": \"https://www.sephora.com/productimages/sku/s1910470-main-zoom.jpg\"}, \"price\": 50.0, \"rating\": 4.2, \"likes\": 202200, \"description\": \"A powerful antiaging serum formulated with vitamin C and collagen for brightening and all-day hydration.\"}, \"3\": {\"title\": \"AHA 30% + BHA 2% Peeling Solution\", \"issue\": \"Treatment\", \"image\": {\"uri\": \"https://www.sephora.com/productimages/sku/s2210607-main-zoom.jpg\"}, \"price\": 7.0, \"rating\": 4.7, \"likes\": 162300, \"description\": \"An exfoliating solution to help fight visible blemishes and improve the look of skin texture and radiance.\"}, \"4\": {\"title\": \"Purity Made Simple Cleanser\", \"issue\": \"Cleanser\", \"image\": {\"uri\": \"https://www.sephora.com/productimages/sku/s407304-main-zoom.jpg\"}, \"price\": 24.0, \"rating\": 4.5, \"likes\": 172800, \"description\": \"A face wash for easy, one-step cleansing\\\\u2014Purity Made Simple Facial Cleanser, the number one face wash in America.\"}, \"5\": {\"title\": \"Ultra Repair\\\\u00ae Cream Intense Hydration\", \"issue\": \"Moisturizer\", \"image\": {\"uri\": \"https://www.sephora.com/productimages/sku/s2339489-main-zoom.jpg\"}, \"price\": 34.0, \"rating\": 4.6, \"likes\": 159100, \"description\": \"A fast-absorbing, rich moisturizer that provides instant and long-term hydration for dry, distressed skin and eczema.\"}, \"6\": {\"title\": \"Banana Bright Eye Cr\\\\u00e8me\", \"issue\": \"Eye cream\", \"image\": {\"uri\": \"https://www.sephora.com/productimages/sku/s2018984-main-zoom.jpg\"}, \"price\": 39.0, \"rating\": 4.0, \"likes\": 177400, \"description\": \"A brightening, vitamin C-rich eye cr\\\\u00e8me that targets signs of aging, reducing the look of dark circles while improving concealer application and wear\\\\u2014inspired by makeup artist secret, banana powder.\"}, \"7\": {\"title\": \"C-Firma\\\\u2122 Vitamin C Day Serum\", \"issue\": \"Treatment\", \"image\": {\"uri\": \"https://www.sephora.com/productimages/sku/s1765239-main-zoom.jpg\"}, \"price\": 80.0, \"rating\": 3.9, \"likes\": 187400, \"description\": \"A potent vitamin C day serum packed with antioxidants, nutrients, and fruit enzymes to firm and brighten skin\\\\u2019s appearance and improve the signs of photoaging.\"}, \"8\": {\"title\": \"Good Genes All-In-One Lactic Acid Treatment\", \"issue\": \"Treatment\", \"image\": {\"uri\": \"https://www.sephora.com/productimages/sku/s1418581-main-zoom.jpg\"}, \"price\": 105.0, \"rating\": 4.2, \"likes\": 174400, \"description\": \"An all-in-one AHA treatment, powered by lactic acid, that clarifies, smooths, and retexturizes the appearance of skin.\"}, \"9\": {\"title\": \"Rose Deep Hydration Facial Toner\", \"issue\": \"Cleanser\", \"image\": {\"uri\": \"https://www.sephora.com/productimages/sku/s1924901-main-zoom.jpg\"}, \"price\": 45.0, \"rating\": 4.2, \"likes\": 122400, \"description\": \"A daily, non-stripping toner with real rose petals and hyaluronic acid that minimizes pores while increasing hydration by 46 percent for six hours.\"}, \"10\": {\"title\": \"Pure Skin Face Cleanser\", \"issue\": \"Cleanser\", \"image\": {\"uri\": \"https://www.sephora.com/productimages/sku/s1543313-main-zoom.jpg\"}, \"price\": 11.0, \"rating\": 4.4, \"likes\": 86100, \"description\": \"A fragrance-free, gentle cleanser that effectively removes makeup, dirt, and grime, leaving skin soft and supple.\"}, \"11\": {\"title\": \"A-Passioni\\\\u2122 Retinol Cream\", \"issue\": \"Treatment\", \"image\": {\"uri\": \"https://www.sephora.com/productimages/sku/s2282960-main-zoom.jpg\"}, \"price\": 28.0, \"rating\": 4.2, \"likes\": 99500, \"description\": \"A clean, cutting edge formula with one-percent vegan retinol and superfood-rich ingredients to diminish the look of fine lines, wrinkles, and sun damage.\"}, \"12\": {\"title\": \"The Deep Cleanse Exfoliating Cleanser\", \"issue\": \"Cleanser\", \"image\": {\"uri\": \"https://www.sephora.com/productimages/sku/s2315331-main-zoom.jpg\"}, \"price\": 38.0, \"rating\": 4.3, \"likes\": 94300, \"description\": \"A daily gel cleanser with natural fruit exfoliant that thoroughly but gently lifts impurities and unclogs pores while leaving skin soft and hydrated.\"}, \"13\": {\"title\": \"Honey Potion Renewing Antioxidant Hydration Mask\", \"issue\": \"Face Mask\", \"image\": {\"uri\": \"https://www.sephora.com/productimages/sku/s2041655-main-zoom.jpg\"}, \"price\": 38.0, \"rating\": 4.3, \"likes\": 92000, \"description\": \"An intensely hydrating, warming honey face mask infused with antioxidants for a glowing complexion and skin that\\\\u2019s plump with hydration.\"}, \"14\": {\"title\": \"Natural Moisturizing Factors + HA\", \"issue\": \"Moisturizer\", \"image\": {\"uri\": \"https://www.sephora.com/productimages/sku/s2031425-main-zoom.jpg\"}, \"price\": 5.8, \"rating\": 4.2, \"likes\": 74800, \"description\": \"A hydrating formula with amino acids, dermal lipids, and hyaluronic acid.\"}}'"
      ]
     },
     "execution_count": 9,
     "metadata": {},
     "output_type": "execute_result"
    }
   ],
   "source": [
    "sca.full_recommendations"
   ]
  },
  {
   "cell_type": "code",
   "execution_count": null,
   "metadata": {},
   "outputs": [],
   "source": []
  }
 ],
 "metadata": {
  "kernelspec": {
   "display_name": "Python 3",
   "language": "python",
   "name": "python3"
  },
  "language_info": {
   "codemirror_mode": {
    "name": "ipython",
    "version": 3
   },
   "file_extension": ".py",
   "mimetype": "text/x-python",
   "name": "python",
   "nbconvert_exporter": "python",
   "pygments_lexer": "ipython3",
   "version": "3.6.5"
  }
 },
 "nbformat": 4,
 "nbformat_minor": 4
}
