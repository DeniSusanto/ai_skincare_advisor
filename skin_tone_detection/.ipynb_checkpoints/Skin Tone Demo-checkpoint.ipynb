{
 "cells": [
  {
   "cell_type": "code",
   "execution_count": 31,
   "metadata": {},
   "outputs": [
    {
     "name": "stdout",
     "output_type": "stream",
     "text": [
      "Red: 215.87756030951297\n",
      "Green: 188.45425580336823\n",
      "Blue: 170.329540282203\n"
     ]
    },
    {
     "data": {
      "image/png": "[encoded data removed]",
      "text/plain": [
       "<Figure size 432x288 with 1 Axes>"
      ]
     },
     "metadata": {
      "needs_background": "light"
     },
     "output_type": "display_data"
    }
   ],
   "source": [
    "import cv2\n",
    "import numpy as np\n",
    "import matplotlib.pyplot as plt\n",
    "import imutils\n",
    "# ---- START FUNCTIONS ----#\n",
    "\n",
    "# display an image plus label and wait for key press to continue\n",
    "def display_image(image, name):\n",
    "    window_name = name\n",
    "    cv2.namedWindow(window_name)\n",
    "    cv2.imshow(window_name, image)\n",
    "    cv2.waitKey()\n",
    "    cv2.destroyAllWindows()\n",
    "\n",
    "\n",
    "# segment using otsu binarization and thresholding\n",
    "def segment_otsu(image_grayscale, img_BGR):\n",
    "    threshold_value, threshold_image = cv2.threshold(image_grayscale, 0, 255,cv2.THRESH_BINARY_INV+cv2.THRESH_OTSU)\n",
    "    display_image(threshold_image, \"otsu\") \n",
    "    threshold_image_binary = 1- threshold_image/255\n",
    "    threshold_image_binary = np.repeat(threshold_image_binary[:, :, np.newaxis], 3, axis=2)\n",
    "    img_face_only = np.multiply(threshold_image_binary, img_BGR)\n",
    "    img_face_only = np.array(img_face_only, dtype=np.uint8)\n",
    "    return img_face_only\n",
    "\n",
    "# ---- MAIN ----#\n",
    "\n",
    "# read in image into openCV BGR and grayscale\n",
    "image_path = './images/image.jpg'\n",
    "width_opt = 700 # NONE = image wont be resized \n",
    "\n",
    "\n",
    "img = cv2.imread(image_path, 3)\n",
    "if width_opt:\n",
    "    img = imutils.resize(img, width=width_opt)\n",
    "img.shape\n",
    "scale_percent = 60 # percent of original size\n",
    "width = int(img.shape[1] * scale_percent / 100)\n",
    "height = int(img.shape[0] * scale_percent / 100)\n",
    "dim = (width, height)\n",
    "# resize image\n",
    "img_BGR = cv2.resize(img, dim, interpolation = cv2.INTER_AREA)\n",
    "img_BGR.shape\n",
    "display_image(img_BGR, \"BGR\")\n",
    "\n",
    "img_grayscale = cv2.cvtColor(img_BGR, cv2.COLOR_BGR2GRAY)\n",
    "display_image(img_grayscale, \"grayscale\")\n",
    "\n",
    "# foreground and background segmentation (otsu)\n",
    "img_face_only = segment_otsu(img_grayscale, img_BGR)\n",
    "display_image(img_face_only, \"segmented BGR\")\n",
    "\n",
    "# convert to HSV and YCrCb color spaces and detect potential pixels\n",
    "img_HSV = cv2.cvtColor(img_face_only, cv2.COLOR_BGR2HSV)\n",
    "img_YCrCb = cv2.cvtColor(img_face_only, cv2.COLOR_BGR2YCrCb)\n",
    "display_image(img_HSV, \"HSV\")\n",
    "display_image(img_YCrCb, \"YCrCb\")\n",
    "\n",
    "# aggregate skin pixels\n",
    "blue = []\n",
    "green = []\n",
    "red = []\n",
    "\n",
    "height, width, channels = img_face_only.shape\n",
    "\n",
    "for i in range (height):\n",
    "    for j in range (width):\n",
    "        if((img_HSV.item(i, j, 0) <= 170) and (140 <= img_YCrCb.item(i, j, 1) <= 170) and (90 <= img_YCrCb.item(i, j, 2) <= 120)):\n",
    "            blue.append(img_face_only[i, j].item(0))\n",
    "            green.append(img_face_only[i, j].item(1))\n",
    "            red.append(img_face_only[i, j].item(2))\n",
    "        else:\n",
    "            img_face_only[i, j] = [0, 0, 0]\n",
    "skin_tone_estimate_BGR = [np.mean(blue), np.mean(green), np.mean(red)]\n",
    "print (\"Red:\",skin_tone_estimate_BGR[2]) \n",
    "print (\"Green:\",skin_tone_estimate_BGR[1])\n",
    "print (\"Blue:\",skin_tone_estimate_BGR[0])\n",
    "plt.imshow([[(skin_tone_estimate_BGR[2]/255, skin_tone_estimate_BGR[1]/255, skin_tone_estimate_BGR[0]/255)]])\n",
    "plt.show()\n",
    "\n",
    "display_image(img_face_only, \"final segmentation\")\n",
    "\n",
    "# determine mean skin tone estimate\n"
   ]
  }
 ],
 "metadata": {
  "kernelspec": {
   "display_name": "Python 3",
   "language": "python",
   "name": "python3"
  },
  "language_info": {
   "codemirror_mode": {
    "name": "ipython",
    "version": 3
   },
   "file_extension": ".py",
   "mimetype": "text/x-python",
   "name": "python",
   "nbconvert_exporter": "python",
   "pygments_lexer": "ipython3",
   "version": "3.6.5"
  }
 },
 "nbformat": 4,
 "nbformat_minor": 2
}
