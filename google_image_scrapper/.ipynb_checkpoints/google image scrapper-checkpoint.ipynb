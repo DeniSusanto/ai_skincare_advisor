{
 "cells": [
  {
   "cell_type": "code",
   "execution_count": 1,
   "metadata": {},
   "outputs": [],
   "source": [
    "from selenium import webdriver\n",
    "from selenium.webdriver.common.keys import Keys\n",
    "import json\n",
    "import os\n",
    "import urllib\n",
    "import argparse\n",
    "from webdriver_manager.chrome import ChromeDriverManager\n",
    "from imutils import face_utils\n",
    "import numpy as np\n",
    "import argparse\n",
    "import imutils\n",
    "import dlib\n",
    "import cv2"
   ]
  },
  {
   "cell_type": "code",
   "execution_count": 2,
   "metadata": {},
   "outputs": [],
   "source": [
    "SEARCH_TERM = \"old+lady\""
   ]
  },
  {
   "cell_type": "code",
   "execution_count": 8,
   "metadata": {
    "scrolled": true
   },
   "outputs": [
    {
     "name": "stdout",
     "output_type": "stream",
     "text": [
      "making directory\n",
      "0 pictures succesfully downloaded\n"
     ]
    }
   ],
   "source": [
    "searchterm = SEARCH_TERM\n",
    "url = \"https://www.google.com/search?q=\"+searchterm+\"&source=lnms&tbm=isch\"\n",
    "browser = webdriver.Chrome(r\"C:\\Users\\Deni Susanto\\.wdm\\drivers\\chromedriver\\79.0.3945.36\\win32\\chromedriver.exe\")\n",
    "browser.get(url)\n",
    "header={'User-Agent':\"Chrome/76.0.3809.36\"}\n",
    "counter = 0\n",
    "succounter = 0\n",
    "detector = dlib.get_frontal_face_detector()\n",
    "if not os.path.exists(searchterm):\n",
    "    print(\"making directory\")\n",
    "    os.mkdir(searchterm)\n",
    "\n",
    "for _ in range(500):\n",
    "    browser.execute_script(\"window.scrollBy(0,100000)\")\n",
    "\n",
    "for x in browser.find_elements_by_xpath('//div[contains(@class,\"rg_meta\")]'):\n",
    "    counter = counter + 1\n",
    "    print(\"Total Count:\", counter)\n",
    "    print(\"Succsessful Count:\", succounter)\n",
    "    print(\"URL:\",json.loads(x.get_attribute('innerHTML'))[\"ou\"])\n",
    "    img = json.loads(x.get_attribute('innerHTML'))[\"ou\"]\n",
    "    imgtype = json.loads(x.get_attribute('innerHTML'))[\"ity\"]\n",
    "    if imgtype == \"jpg\" or imgtype == \"png\":\n",
    "        try:\n",
    "            path = os.path.join(searchterm , searchterm + \"_\" + str(counter) + \".\" + imgtype)\n",
    "            urllib.request.urlretrieve(img, path)\n",
    "            \n",
    "            #check if there is a face\n",
    "            image = cv2.imread(path)\n",
    "            image = imutils.resize(image, width=400)\n",
    "            gray = cv2.cvtColor(image, cv2.COLOR_BGR2GRAY)\n",
    "            faces = detector(gray, 1)\n",
    "            if not len(faces) == 1:\n",
    "                os.remove(path)\n",
    "                print(\"Found: \" + str(len(faces)) + \" face(s): \"+ searchterm + \"_\" + str(counter) + \".\" + imgtype + \" has been removed\")\n",
    "            else:\n",
    "                succounter = succounter + 1\n",
    "        except:\n",
    "            print(\"can't get img\")\n",
    "    else:\n",
    "        print(\"invalid image format\")\n",
    "\n",
    "print(succounter, \"pictures succesfully downloaded\")\n",
    "browser.close()"
   ]
  },
  {
   "cell_type": "code",
   "execution_count": null,
   "metadata": {},
   "outputs": [],
   "source": []
  }
 ],
 "metadata": {
  "kernelspec": {
   "display_name": "Python 3",
   "language": "python",
   "name": "python3"
  },
  "language_info": {
   "codemirror_mode": {
    "name": "ipython",
    "version": 3
   },
   "file_extension": ".py",
   "mimetype": "text/x-python",
   "name": "python",
   "nbconvert_exporter": "python",
   "pygments_lexer": "ipython3",
   "version": "3.6.5"
  }
 },
 "nbformat": 4,
 "nbformat_minor": 2
}
